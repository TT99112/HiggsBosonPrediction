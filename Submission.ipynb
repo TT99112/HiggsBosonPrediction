{
 "cells": [
  {
   "metadata": {},
   "cell_type": "raw",
   "source": "",
   "id": "cab1477b39498e0e"
  },
  {
   "metadata": {
    "ExecuteTime": {
     "end_time": "2024-05-09T18:11:01.117714Z",
     "start_time": "2024-05-09T18:10:58.840433Z"
    }
   },
   "cell_type": "code",
   "source": [
    "import pandas as pd\n",
    "import numpy as np\n",
    "import matplotlib.pyplot as plt\n",
    "import seaborn as sns\n",
    "from sklearn.model_selection import train_test_split, cross_val_score\n",
    "from sklearn.preprocessing import StandardScaler\n",
    "from sklearn.linear_model import LogisticRegression\n",
    "from sklearn.metrics import classification_report, roc_auc_score, confusion_matrix\n",
    "from sklearn.pipeline import make_pipeline\n",
    "\n",
    "# Load the datasets\n",
    "train_data = pd.read_csv('training.csv')\n",
    "test_data = pd.read_csv('test.csv')\n",
    "\n",
    "# Exploratory Data Analysis (Optional Step)\n",
    "# For example, visualizing the label distribution\n",
    "sns.countplot(x=train_data['Label'])\n",
    "plt.title('Distribution of Labels')\n",
    "plt.show()\n",
    "\n",
    "# Check for missing values in both datasets\n",
    "print(\"Missing values in training data:\", train_data.isnull().sum().sum())\n",
    "print(\"Missing values in test data:\", test_data.isnull().sum().sum())\n",
    "\n",
    "# Extract features and labels from the training data\n",
    "X_train = train_data.drop(['EventId', 'Label', 'Weight'], axis=1)\n",
    "y_train = train_data['Label'].apply(lambda x: 1 if x == 's' else 0)\n",
    "\n",
    "# Split the training data into training and validation sets\n",
    "X_train_part, X_val, y_train_part, y_val = train_test_split(X_train, y_train, test_size=0.2, random_state=42)\n",
    "\n",
    "# Create a pipeline that includes scaling and logistic regression model\n",
    "pipeline = make_pipeline(\n",
    "    StandardScaler(),\n",
    "    LogisticRegression(max_iter=10000)  # Increased the number of iterations\n",
    ")\n",
    "\n",
    "# Fit the model on the training part\n",
    "pipeline.fit(X_train_part, y_train_part)\n",
    "\n",
    "# Predictions and evaluation on the validation set\n",
    "y_pred = pipeline.predict(X_val)\n",
    "y_pred_proba = pipeline.predict_proba(X_val)[:, 1]\n",
    "\n",
    "# Print evaluation metrics\n",
    "print(\"Classification Report:\\n\", classification_report(y_val, y_pred))\n",
    "print(\"ROC AUC Score:\", roc_auc_score(y_val, y_pred_proba))\n",
    "print(\"Confusion Matrix:\\n\", confusion_matrix(y_val, y_pred))\n"
   ],
   "id": "53109432aef4184a",
   "outputs": [
    {
     "data": {
      "text/plain": [
       "<Figure size 640x480 with 1 Axes>"
      ],
      "image/png": "[encoded data removed]"
     },
     "metadata": {},
     "output_type": "display_data"
    },
    {
     "name": "stdout",
     "output_type": "stream",
     "text": [
      "Missing values in training data: 0\n",
      "Missing values in test data: 0\n",
      "Classification Report:\n",
      "               precision    recall  f1-score   support\n",
      "\n",
      "           0       0.78      0.86      0.82     33065\n",
      "           1       0.67      0.54      0.59     16935\n",
      "\n",
      "    accuracy                           0.75     50000\n",
      "   macro avg       0.73      0.70      0.71     50000\n",
      "weighted avg       0.74      0.75      0.74     50000\n",
      "\n",
      "ROC AUC Score: 0.8159307706041606\n",
      "Confusion Matrix:\n",
      " [[28534  4531]\n",
      " [ 7865  9070]]\n"
     ]
    }
   ],
   "execution_count": 3
  },
  {
   "metadata": {
    "ExecuteTime": {
     "end_time": "2024-05-09T18:11:01.221306Z",
     "start_time": "2024-05-09T18:11:01.144830Z"
    }
   },
   "cell_type": "code",
   "source": [
    "\n",
    "test_features = test_data.drop(['EventId'], axis=1)  # Adjust if the test set includes any ID or non-feature columns\n",
    "test_probabilities = pipeline.predict_proba(test_features)[:, 1]\n",
    "\n",
    "# Generate predictions based on the probability threshold determined earlier\n",
    "test_predictions = (test_probabilities > 0.5).astype(int)\n"
   ],
   "id": "d71351dcebe50307",
   "outputs": [],
   "execution_count": 4
  },
  {
   "metadata": {
    "ExecuteTime": {
     "end_time": "2024-05-09T18:11:01.672125Z",
     "start_time": "2024-05-09T18:11:01.244573Z"
    }
   },
   "cell_type": "code",
   "source": [
    "# Prepare the submission DataFrame\n",
    "submission = pd.DataFrame({\n",
    "    'EventId': test_data['EventId'],\n",
    "    'RankOrder': np.argsort(np.argsort(-test_probabilities)) + 1,  # Kaggle often requires a rank ordering\n",
    "    'Class': ['s' if x else 'b' for x in test_predictions]\n",
    "})\n",
    "\n",
    "# Save the submission file\n",
    "submission.to_csv('higgs_boson_submission.csv', index=False)\n",
    "print(\"Submission file saved successfully!\")\n"
   ],
   "id": "942b4451378f7568",
   "outputs": [
    {
     "name": "stdout",
     "output_type": "stream",
     "text": [
      "Submission file saved successfully!\n"
     ]
    }
   ],
   "execution_count": 5
  },
  {
   "cell_type": "code",
   "id": "initial_id",
   "metadata": {
    "collapsed": true,
    "ExecuteTime": {
     "end_time": "2024-05-09T18:11:01.675055Z",
     "start_time": "2024-05-09T18:11:01.673733Z"
    }
   },
   "source": [
    ""
   ],
   "outputs": [],
   "execution_count": 5
  }
 ],
 "metadata": {
  "kernelspec": {
   "display_name": "Python 3",
   "language": "python",
   "name": "python3"
  },
  "language_info": {
   "codemirror_mode": {
    "name": "ipython",
    "version": 2
   },
   "file_extension": ".py",
   "mimetype": "text/x-python",
   "name": "python",
   "nbconvert_exporter": "python",
   "pygments_lexer": "ipython2",
   "version": "2.7.6"
  }
 },
 "nbformat": 4,
 "nbformat_minor": 5
}
